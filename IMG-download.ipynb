{
 "cells": [
  {
   "cell_type": "code",
   "execution_count": 1,
   "id": "8b73f650-3327-4ba4-9f5c-af706191ae9d",
   "metadata": {},
   "outputs": [],
   "source": [
    "import os\n",
    "import pandas as pd\n",
    "import requests"
   ]
  },
  {
   "cell_type": "code",
   "execution_count": 2,
   "id": "10ab8a90-e533-4f58-8df3-2733f33784bf",
   "metadata": {},
   "outputs": [],
   "source": [
    "# Função para baixar imagens\n",
    "def download_images(chave, lista):\n",
    "    print(f\"Carregando as imagens da categoria {chave}\")\n",
    "    # Cria o diretório para a chave se ele não existir\n",
    "    os.makedirs(f'./images_download/{chave}', exist_ok=True)\n",
    "    for i, url in enumerate(lista):\n",
    "        try:\n",
    "            response = requests.get(url, timeout=10)\n",
    "            if response.status_code == 200:\n",
    "                with open(f'images_download/{chave}/image_{i}.jpg', 'wb') as file:\n",
    "                       file.write(response.content)\n",
    "            else:\n",
    "                print(f\"Falha ao baixar a imagem {url}\")\n",
    "        except:\n",
    "            print(f\"Falha ao baixar a imagem {url}\")\n",
    "            next\n",
    "    "
   ]
  },
  {
   "cell_type": "code",
   "execution_count": 3,
   "id": "d1cf2660-955c-4e98-9e61-2c8908e8facf",
   "metadata": {},
   "outputs": [],
   "source": [
    "def process_excel_file(filepath):\n",
    "    try:\n",
    "        categoria = os.path.splitext(os.path.basename(filepath))[0] \n",
    "        df = pd.read_excel(filepath)  \n",
    "        urls = df.iloc[:, 0].tolist()\n",
    "        print(f'Total de links: {len(urls)}')\n",
    "        download_images(categoria, urls)\n",
    "    except Exception as e:\n",
    "        print(f\"Erro ao processar o arquivo {filepath}: {e}\")\n"
   ]
  },
  {
   "cell_type": "code",
   "execution_count": 4,
   "id": "9d0e140f-bb51-4638-8748-3c491dc56455",
   "metadata": {},
   "outputs": [
    {
     "name": "stdout",
     "output_type": "stream",
     "text": [
      "Processando o arquivo Excel: bomba de leite enjoei.xlsx\n",
      "Total de links: 67\n",
      "Carregando as imagens da categoria bomba de leite enjoei\n",
      "Processando o arquivo Excel: ofuro de bebe enjoei.xlsx\n",
      "Total de links: 68\n",
      "Carregando as imagens da categoria ofuro de bebe enjoei\n",
      "Falha ao baixar a imagem https://images-americanas.b2w.io/produtos/4897388301/imagens/ofuro-de-bebe-banheira-terapeutica-azul-0-a-8-meses-super-luxo/4897388328_1_large.jpg\n",
      "Processando o arquivo Excel: cinta pos parto.xlsx\n",
      "Total de links: 66\n",
      "Carregando as imagens da categoria cinta pos parto\n",
      "Processando o arquivo Excel: chupeta  para bebe comprar.xlsx\n",
      "Total de links: 66\n",
      "Carregando as imagens da categoria chupeta  para bebe comprar\n",
      "Falha ao baixar a imagem https://images-americanas.b2w.io/produtos/4597014261/imagens/chupeta-de-bebe-com-cores-do-ouro-rose-chupeta-de-silicone-sem-bpa-para-recem-nascidos-presente-de-cha-de-bebe-novo/4597014261_1_large.jpg\n",
      "Falha ao baixar a imagem https://images-americanas.b2w.io/produtos/4272245001/imagens/chupeta-de-bebe-soft-calming-100-silicone-bico-universal-6meses-tamanho-2-lillo/4272245010_1_large.jpg\n",
      "Falha ao baixar a imagem https://images-americanas.b2w.io/produtos/4300731227/imagens/04-chupeta-de-bebe-com-cores-do-ouro-rose-chupeta-de-silicone-sem-bpa-para-recem-nascidos-presente-de-cha-de-bebe-nov/4300731227_1_large.jpg\n",
      "Falha ao baixar a imagem https://cmmartins.com.br/wp-content/uploads/2019/07/ezgif.com-webp-to-png-1-1.png\n",
      "Falha ao baixar a imagem https://imgs.casasbahia.com.br/1554031326/1xg.jpg\n",
      "Processando o arquivo Excel: alimentador para bebe.xlsx\n",
      "Total de links: 67\n",
      "Carregando as imagens da categoria alimentador para bebe\n",
      "Falha ao baixar a imagem https://images-americanas.b2w.io/produtos/3435460102/imagens/alimentador-infantil-seguro-para-bebes-frutas-redinha/3435460102_1_large.jpg\n",
      "Falha ao baixar a imagem https://images-americanas.b2w.io/produtos/3435460102/imagens/alimentador-infantil-seguro-para-bebes-frutas-redinha/3435460102_1_large.jpg\n",
      "Processando o arquivo Excel: almofada para gestante enjoei.xlsx\n",
      "Total de links: 0\n",
      "Carregando as imagens da categoria almofada para gestante enjoei\n",
      "Processando o arquivo Excel: bolsa de compressa termica para bebe.xlsx\n",
      "Total de links: 68\n",
      "Carregando as imagens da categoria bolsa de compressa termica para bebe\n",
      "Falha ao baixar a imagem https://images-americanas.b2w.io/produtos/5221993288/imagens/bolsa-termica-gel-infantil-bebe-nenem-compressa-quente-fria/5221993288_1_large.jpg\n",
      "Falha ao baixar a imagem https://imgs.casasbahia.com.br/1565356303/1xg.jpg\n",
      "Falha ao baixar a imagem https://images-americanas.b2w.io/produtos/3928303092/imagens/cinta-colica-bebes-com-bolsa-gel-compressa-quente-ou-fria/3928303105_1_large.jpg\n",
      "Falha ao baixar a imagem https://locababyekids.com.br/wp-content/uploads/2023/12/Bolsa-Termica-Infantil-Zip-Compressa-Em-Gel-Fria-Ou-Quente-2.jpeg\n",
      "Falha ao baixar a imagem https://images-americanas.b2w.io/produtos/44347333/imagens/bolsa-agua-quente-ou-fria-gelo-compressa-termica-bolsa-1-8-l/44347333_1_large.jpg\n",
      "Falha ao baixar a imagem https://imgs.casasbahia.com.br/1565760282/1xg.jpg\n"
     ]
    }
   ],
   "source": [
    "excel_directory = './excels'\n",
    "for filename in os.listdir(excel_directory):\n",
    "    if filename.endswith(\".xlsx\") or filename.endswith(\".xls\"):\n",
    "        filepath = os.path.join(excel_directory, filename)\n",
    "        print(f\"Processando o arquivo Excel: {filename}\")\n",
    "        process_excel_file(filepath)"
   ]
  },
  {
   "cell_type": "code",
   "execution_count": null,
   "id": "da5901d0-c3cc-4389-aeca-8ac95cdfa0c5",
   "metadata": {},
   "outputs": [],
   "source": []
  }
 ],
 "metadata": {
  "kernelspec": {
   "display_name": "Python 3 (ipykernel)",
   "language": "python",
   "name": "python3"
  },
  "language_info": {
   "codemirror_mode": {
    "name": "ipython",
    "version": 3
   },
   "file_extension": ".py",
   "mimetype": "text/x-python",
   "name": "python",
   "nbconvert_exporter": "python",
   "pygments_lexer": "ipython3",
   "version": "3.12.3"
  }
 },
 "nbformat": 4,
 "nbformat_minor": 5
}
