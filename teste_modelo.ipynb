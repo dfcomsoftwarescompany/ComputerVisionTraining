{
 "cells": [
  {
   "cell_type": "code",
   "execution_count": 6,
   "id": "74603704-2e0d-491e-8ab2-6a5b6f842ff8",
   "metadata": {},
   "outputs": [],
   "source": [
    "import torch\n",
    "from torchvision import transforms\n",
    "from PIL import Image\n",
    "import requests\n",
    "from io import BytesIO\n",
    "import json\n",
    "\n",
    "import torch.nn as nn\n",
    "from efficientnet_pytorch import EfficientNet\n",
    "\n",
    "import os\n",
    "import random\n",
    "import pandas as pd\n",
    "from openpyxl import load_workbook\n",
    "from tqdm import tqdm\n",
    "\n",
    "caminho_pasta = 'excels'\n",
    "\n",
    "\n",
    "analise = []"
   ]
  },
  {
   "cell_type": "code",
   "execution_count": 2,
   "id": "2be07528-e4d7-4970-b0f3-b24eaea6b225",
   "metadata": {},
   "outputs": [],
   "source": [
    "def selecionar_valores_aleatorios(valores, n):\n",
    "    valores_filtrados = [\n",
    "        valor for valor in valores \n",
    "        if \"americanas\" not in str(valor).lower() \n",
    "        and \"casasbahia\" not in str(valor).lower()\n",
    "        and \"imgs.extra\" not in str(valor).lower()\n",
    "        and \"imgs.pontofrio\" not in str(valor).lower()\n",
    "    ]\n",
    "    if len(valores_filtrados) >= n:\n",
    "        return random.sample(valores_filtrados, n)\n",
    "    else:\n",
    "        return valores_filtrados"
   ]
  },
  {
   "cell_type": "code",
   "execution_count": 3,
   "id": "10d837b4-8b1e-4002-a68a-7ddc59bc2631",
   "metadata": {},
   "outputs": [],
   "source": [
    "device = torch.device(\"cuda:0\" if torch.cuda.is_available() else \"cpu\")\n",
    "with open('./class.json', 'r', encoding='utf-8') as arquivo:\n",
    "    class_names = json.load(arquivo)\n",
    "\n",
    "# Função para processar a imagem\n",
    "def process_image(image):\n",
    "    preprocess = transforms.Compose([\n",
    "        transforms.Resize(256),\n",
    "        transforms.CenterCrop(224),\n",
    "        transforms.ToTensor(),\n",
    "        transforms.Normalize([0.485, 0.456, 0.406], [0.229, 0.224, 0.225])\n",
    "    ])\n",
    "    image = preprocess(image).unsqueeze(0)  # Adiciona uma dimensão para o batch\n",
    "    return image\n",
    "\n",
    "# Função para fazer a predição\n",
    "def predict(image_url, model, class_names):\n",
    "    response = requests.get(image_url)\n",
    "    image = Image.open(BytesIO(response.content)).convert('RGB')\n",
    "    image = process_image(image)\n",
    "    image = image.to(device)\n",
    "\n",
    "    model.eval()\n",
    "    with torch.no_grad():\n",
    "        outputs = model(image)\n",
    "        _, preds = torch.max(outputs, 1)\n",
    "        predicted_class = class_names[preds[0]]\n",
    "    \n",
    "    return predicted_class\n",
    "\n",
    "# Caminho para o modelo salvo\n",
    "model_save_path = 'efficientnet_model.pth'\n",
    "\n",
    "# Carregar o modelo e as classes\n",
    "model = EfficientNet.from_name('efficientnet-b0')\n",
    "num_ftrs = model._fc.in_features\n",
    "model._fc = nn.Linear(num_ftrs, len(class_names))\n",
    "model.load_state_dict(torch.load(model_save_path))\n",
    "model = model.to(device)"
   ]
  },
  {
   "cell_type": "code",
   "execution_count": 7,
   "id": "1fd5d242-dc08-4fa4-b43a-cc4d0b70afbc",
   "metadata": {
    "scrolled": true
   },
   "outputs": [
    {
     "name": "stderr",
     "output_type": "stream",
     "text": [
      "100%|█████████████████████████████████████████| 123/123 [03:59<00:00,  1.94s/it]"
     ]
    },
    {
     "name": "stdout",
     "output_type": "stream",
     "text": [
      "Análise concluída e salva em 'analise.csv'.\n"
     ]
    },
    {
     "name": "stderr",
     "output_type": "stream",
     "text": [
      "\n"
     ]
    }
   ],
   "source": [
    "for nome_arquivo in tqdm(os.listdir(caminho_pasta)):\n",
    "    if nome_arquivo.endswith('.xlsx'):\n",
    "        caminho_arquivo = os.path.join(caminho_pasta, nome_arquivo)\n",
    "        \n",
    "        # Abrir e ler o arquivo Excel\n",
    "        wb = load_workbook(caminho_arquivo)\n",
    "        ws = wb.active\n",
    "\n",
    "        # Pegar todos os valores das células (ignorando cabeçalhos se houver)\n",
    "        valores = []\n",
    "        for row in ws.iter_rows(min_row=2, values_only=True):  # Ajuste min_row conforme necessário\n",
    "            valores.extend(row)\n",
    "\n",
    "        # Filtrar valores não nulos\n",
    "        valores = [valor for valor in valores if valor is not None]\n",
    "\n",
    "        # Pegar 4 valores aleatórios que não contenham \"americanas\"\n",
    "        valores_aleatorios = selecionar_valores_aleatorios(valores, 4)\n",
    "        \n",
    "        cat_arquivo = nome_arquivo.replace('.xlsx','')\n",
    "        # Criar um dicionário separado para cada valor e adicionar à lista `analise`\n",
    "        for valor in valores_aleatorios:\n",
    "            try:\n",
    "                categoria_predida  = predict(valor, model, class_names)\n",
    "                comparativo = \"errou\"\n",
    "                if categoria_predida == cat_arquivo:\n",
    "                    comparativo = \"acertou\"\n",
    "                    \n",
    "                resultado = {\n",
    "                    \"arquivo\": cat_arquivo,\n",
    "                    \"valor\": valor,\n",
    "                    \"predicao\":categoria_predida,\n",
    "                    \"status\":comparativo\n",
    "                }\n",
    "                analise.append(resultado)\n",
    "            except:\n",
    "                continue\n",
    "\n",
    "# Criar um DataFrame a partir da lista `analise`\n",
    "df = pd.DataFrame(analise)\n",
    "\n",
    "\n",
    "df.to_excel('analise.xlsx')\n",
    "\n",
    "print(\"Análise concluída e salva em 'analise.xlsx'.\")"
   ]
  },
  {
   "cell_type": "code",
   "execution_count": 14,
   "id": "0169b4e4-d428-49e0-957e-b8ae8f0e381e",
   "metadata": {},
   "outputs": [
    {
     "name": "stdout",
     "output_type": "stream",
     "text": [
      "Soma por status --------------\n",
      "status\n",
      "acertou    412\n",
      "errou       78\n",
      "Name: count, dtype: int64\n",
      "\n",
      "Porcentagem --------------\n",
      "status\n",
      "acertou    84.081633\n",
      "errou      15.918367\n",
      "Name: count, dtype: float64\n"
     ]
    }
   ],
   "source": [
    "contagem = df['status'].value_counts()\n",
    "porcentagem = contagem / contagem.sum() * 100\n",
    "print('Soma por status --------------')\n",
    "print(contagem)\n",
    "print('\\nPorcentagem --------------')\n",
    "print(porcentagem)"
   ]
  },
  {
   "cell_type": "code",
   "execution_count": null,
   "id": "f2a35f50-a30e-4bf5-a892-66422c8908f3",
   "metadata": {},
   "outputs": [],
   "source": []
  }
 ],
 "metadata": {
  "kernelspec": {
   "display_name": "Python 3 (ipykernel)",
   "language": "python",
   "name": "python3"
  },
  "language_info": {
   "codemirror_mode": {
    "name": "ipython",
    "version": 3
   },
   "file_extension": ".py",
   "mimetype": "text/x-python",
   "name": "python",
   "nbconvert_exporter": "python",
   "pygments_lexer": "ipython3",
   "version": "3.12.3"
  }
 },
 "nbformat": 4,
 "nbformat_minor": 5
}
